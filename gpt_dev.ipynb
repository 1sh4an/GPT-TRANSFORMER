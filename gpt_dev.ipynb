{
  "cells": [
    {
      "cell_type": "markdown",
      "metadata": {
        "id": "wJpXpmjEYC_T"
      },
      "source": [
        "## Building a GPT\n"
      ]
    },
    {
      "cell_type": "code",
      "execution_count": 2,
      "metadata": {
        "id": "O6medjfRsLD9"
      },
      "outputs": [],
      "source": [
        "\n",
        "with open('/Users/ishaan/Downloads/GPT/wizard_of_oz.txt', 'r', encoding='utf-8') as f:\n",
        "    text = f.read()"
      ]
    },
    {
      "cell_type": "code",
      "execution_count": 3,
      "metadata": {
        "colab": {
          "base_uri": "https://localhost:8080/"
        },
        "id": "6xWI_VyAsN8F",
        "outputId": "ed819dd0-72e5-40a6-d2ed-928ff73bfda6"
      },
      "outputs": [
        {
          "name": "stdout",
          "output_type": "stream",
          "text": [
            "length of dataset in characters:  232309\n"
          ]
        }
      ],
      "source": [
        "print(\"length of dataset in characters: \", len(text))"
      ]
    },
    {
      "cell_type": "code",
      "execution_count": 4,
      "metadata": {
        "colab": {
          "base_uri": "https://localhost:8080/"
        },
        "id": "2c5V0FvqseE0",
        "outputId": "25ca7adc-b8c0-42d1-b08c-e0863c5c314e"
      },
      "outputs": [
        {
          "name": "stdout",
          "output_type": "stream",
          "text": [
            "  DOROTHY AND THE WIZARD IN OZ\n",
            "\n",
            "  BY\n",
            "\n",
            "  L. FRANK BAUM\n",
            "\n",
            "  AUTHOR OF THE WIZARD OF OZ, THE LAND OF OZ, OZMA OF OZ, ETC.\n",
            "\n",
            "  ILLUSTRATED BY JOHN R. NEILL\n",
            "\n",
            "  BOOKS OF WONDER WILLIAM MORROW & CO., INC. NEW YORK\n",
            "\n",
            "\n",
            "  [Illustration]\n",
            "\n",
            "\n",
            "  COPYRIGHT 1908 BY L. FRANK BAUM\n",
            "\n",
            "  ALL RIGHTS RESERVED\n",
            "\n",
            "\n",
            "         *       *       *       *       *\n",
            "\n",
            "\n",
            "  [Illustration]\n",
            "\n",
            "\n",
            "  DEDICATED TO HARRIET A. B. NEAL.\n",
            "\n",
            "\n",
            "         *       *       *       *       *\n",
            "\n",
            "\n",
            "To My Readers\n",
            "\n",
            "\n",
            "It's no use; no use at all. The children won't let me stop telling tales\n",
            "of the Land of Oz. I know lots of other stories, and I hope to tell\n",
            "them, some time or another; but just now my loving tyrants won't allow\n",
            "me. They cry: \"Oz--Oz! more about Oz, Mr. Baum!\" and what can I do but\n",
            "obey their commands?\n",
            "\n",
            "This is Our Book--mine and the children's. For they have flooded me with\n",
            "thousands of suggestions in regard to it, and I have honestly tried to\n",
            "adopt as many of these suggestions as could be fitted into one story.\n",
            "\n",
            "After the wonderful success of \"\n"
          ]
        }
      ],
      "source": [
        "print(text[:1000])"
      ]
    },
    {
      "cell_type": "markdown",
      "metadata": {},
      "source": [
        "##### All the unique characters that occur in this text"
      ]
    },
    {
      "cell_type": "code",
      "execution_count": 5,
      "metadata": {
        "colab": {
          "base_uri": "https://localhost:8080/"
        },
        "id": "0e-Rbyr8sfM8",
        "outputId": "f34e94a9-5b44-4cf3-885b-986731929109"
      },
      "outputs": [
        {
          "name": "stdout",
          "output_type": "stream",
          "text": [
            "\n",
            " !\"&'()*,-.0123456789:;?ABCDEFGHIJKLMNOPQRSTUVWXYZ[]_abcdefghijklmnopqrstuvwxyz﻿\n",
            "81\n"
          ]
        }
      ],
      "source": [
        "\n",
        "chars = sorted(list(set(text)))\n",
        "vocab_size = len(chars)\n",
        "print(''.join(chars))\n",
        "print(vocab_size)"
      ]
    },
    {
      "cell_type": "markdown",
      "metadata": {},
      "source": [
        "### Encoding and Decoding"
      ]
    },
    {
      "cell_type": "code",
      "execution_count": 6,
      "metadata": {
        "colab": {
          "base_uri": "https://localhost:8080/"
        },
        "id": "Yw1LKNCgwjj1",
        "outputId": "86fcc21c-2cf7-40d9-cd7b-b5a253da4459"
      },
      "outputs": [
        {
          "name": "stdout",
          "output_type": "stream",
          "text": [
            "[61, 62, 62, 1, 73, 61, 58, 71, 58]\n",
            "hii there\n"
          ]
        }
      ],
      "source": [
        "\n",
        "stoi = { ch:i for i,ch in enumerate(chars) }\n",
        "itos = { i:ch for i,ch in enumerate(chars) }\n",
        "encode = lambda s: [stoi[c] for c in s] # encoder: take a string, output a list of integers\n",
        "decode = lambda l: ''.join([itos[i] for i in l]) # decoder: take a list of integers, output a string\n",
        "\n",
        "print(encode(\"hii there\"))\n",
        "print(decode(encode(\"hii there\")))"
      ]
    },
    {
      "cell_type": "markdown",
      "metadata": {},
      "source": [
        "### Encoding entire datset"
      ]
    },
    {
      "cell_type": "code",
      "execution_count": 7,
      "metadata": {
        "colab": {
          "base_uri": "https://localhost:8080/"
        },
        "id": "YJb0OXPwzvqg",
        "outputId": "db7297cc-36a9-4fae-e941-e7bb9e0e91d1"
      },
      "outputs": [
        {
          "name": "stdout",
          "output_type": "stream",
          "text": [
            "torch.Size([232309]) torch.int64\n",
            "tensor([80,  1,  1, 28, 39, 42, 39, 44, 32, 49,  1, 25, 38, 28,  1, 44, 32, 29,\n",
            "         1, 47, 33, 50, 25, 42, 28,  1, 33, 38,  1, 39, 50,  0,  0,  1,  1, 26,\n",
            "        49,  0,  0,  1,  1, 36, 11,  1, 30, 42, 25, 38, 35,  1, 26, 25, 45, 37,\n",
            "         0,  0,  1,  1, 25, 45, 44, 32, 39, 42,  1, 39, 30,  1, 44, 32, 29,  1,\n",
            "        47, 33, 50, 25, 42, 28,  1, 39, 30,  1, 39, 50,  9,  1, 44, 32, 29,  1,\n",
            "        36, 25, 38, 28,  1, 39, 30,  1, 39, 50,  9,  1, 39, 50, 37, 25,  1, 39,\n",
            "        30,  1, 39, 50,  9,  1, 29, 44, 27, 11,  0,  0,  1,  1, 33, 36, 36, 45,\n",
            "        43, 44, 42, 25, 44, 29, 28,  1, 26, 49,  1, 34, 39, 32, 38,  1, 42, 11,\n",
            "         1, 38, 29, 33, 36, 36,  0,  0,  1,  1, 26, 39, 39, 35, 43,  1, 39, 30,\n",
            "         1, 47, 39, 38, 28, 29, 42,  1, 47, 33, 36, 36, 33, 25, 37,  1, 37, 39,\n",
            "        42, 42, 39, 47,  1,  4,  1, 27, 39, 11,  9,  1, 33, 38, 27, 11,  1, 38,\n",
            "        29, 47,  1, 49, 39, 42, 35,  0,  0,  0,  1,  1, 51, 33, 65, 65, 74, 72,\n",
            "        73, 71, 54, 73, 62, 68, 67, 52,  0,  0,  0,  1,  1, 27, 39, 40, 49, 42,\n",
            "        33, 31, 32, 44,  1, 13, 21, 12, 20,  1, 26, 49,  1, 36, 11,  1, 30, 42,\n",
            "        25, 38, 35,  1, 26, 25, 45, 37,  0,  0,  1,  1, 25, 36, 36,  1, 42, 33,\n",
            "        31, 32, 44, 43,  1, 42, 29, 43, 29, 42, 46, 29, 28,  0,  0,  0,  1,  1,\n",
            "         1,  1,  1,  1,  1,  1,  1,  8,  1,  1,  1,  1,  1,  1,  1,  8,  1,  1,\n",
            "         1,  1,  1,  1,  1,  8,  1,  1,  1,  1,  1,  1,  1,  8,  1,  1,  1,  1,\n",
            "         1,  1,  1,  8,  0,  0,  0,  1,  1, 51, 33, 65, 65, 74, 72, 73, 71, 54,\n",
            "        73, 62, 68, 67, 52,  0,  0,  0,  1,  1, 28, 29, 28, 33, 27, 25, 44, 29,\n",
            "        28,  1, 44, 39,  1, 32, 25, 42, 42, 33, 29, 44,  1, 25, 11,  1, 26, 11,\n",
            "         1, 38, 29, 25, 36, 11,  0,  0,  0,  1,  1,  1,  1,  1,  1,  1,  1,  1,\n",
            "         8,  1,  1,  1,  1,  1,  1,  1,  8,  1,  1,  1,  1,  1,  1,  1,  8,  1,\n",
            "         1,  1,  1,  1,  1,  1,  8,  1,  1,  1,  1,  1,  1,  1,  8,  0,  0,  0,\n",
            "        44, 68,  1, 37, 78,  1, 42, 58, 54, 57, 58, 71, 72,  0,  0,  0, 33, 73,\n",
            "         5, 72,  1, 67, 68,  1, 74, 72, 58, 23,  1, 67, 68,  1, 74, 72, 58,  1,\n",
            "        54, 73,  1, 54, 65, 65, 11,  1, 44, 61, 58,  1, 56, 61, 62, 65, 57, 71,\n",
            "        58, 67,  1, 76, 68, 67,  5, 73,  1, 65, 58, 73,  1, 66, 58,  1, 72, 73,\n",
            "        68, 69,  1, 73, 58, 65, 65, 62, 67, 60,  1, 73, 54, 65, 58, 72,  0, 68,\n",
            "        59,  1, 73, 61, 58,  1, 36, 54, 67, 57,  1, 68, 59,  1, 39, 79, 11,  1,\n",
            "        33,  1, 64, 67, 68, 76,  1, 65, 68, 73, 72,  1, 68, 59,  1, 68, 73, 61,\n",
            "        58, 71,  1, 72, 73, 68, 71, 62, 58, 72,  9,  1, 54, 67, 57,  1, 33,  1,\n",
            "        61, 68, 69, 58,  1, 73, 68,  1, 73, 58, 65, 65,  0, 73, 61, 58, 66,  9,\n",
            "         1, 72, 68, 66, 58,  1, 73, 62, 66, 58,  1, 68, 71,  1, 54, 67, 68, 73,\n",
            "        61, 58, 71, 23,  1, 55, 74, 73,  1, 63, 74, 72, 73,  1, 67, 68, 76,  1,\n",
            "        66, 78,  1, 65, 68, 75, 62, 67, 60,  1, 73, 78, 71, 54, 67, 73, 72,  1,\n",
            "        76, 68, 67,  5, 73,  1, 54, 65, 65, 68, 76,  0, 66, 58, 11,  1, 44, 61,\n",
            "        58, 78,  1, 56, 71, 78, 22,  1,  3, 39, 79, 10, 10, 39, 79,  2,  1, 66,\n",
            "        68, 71, 58,  1, 54, 55, 68, 74, 73,  1, 39, 79,  9,  1, 37, 71, 11,  1,\n",
            "        26, 54, 74, 66,  2,  3,  1, 54, 67, 57,  1, 76, 61, 54, 73,  1, 56, 54,\n",
            "        67,  1, 33,  1, 57, 68,  1, 55, 74, 73,  0, 68, 55, 58, 78,  1, 73, 61,\n",
            "        58, 62, 71,  1, 56, 68, 66, 66, 54, 67, 57, 72, 24,  0,  0, 44, 61, 62,\n",
            "        72,  1, 62, 72,  1, 39, 74, 71,  1, 26, 68, 68, 64, 10, 10, 66, 62, 67,\n",
            "        58,  1, 54, 67, 57,  1, 73, 61, 58,  1, 56, 61, 62, 65, 57, 71, 58, 67,\n",
            "         5, 72, 11,  1, 30, 68, 71,  1, 73, 61, 58, 78,  1, 61, 54, 75, 58,  1,\n",
            "        59, 65, 68, 68, 57, 58, 57,  1, 66, 58,  1, 76, 62, 73, 61,  0, 73, 61,\n",
            "        68, 74, 72, 54, 67, 57, 72,  1, 68, 59,  1, 72, 74, 60, 60, 58, 72, 73,\n",
            "        62, 68, 67, 72,  1, 62, 67,  1, 71, 58, 60, 54, 71, 57,  1, 73, 68,  1,\n",
            "        62, 73,  9,  1, 54, 67, 57,  1, 33,  1, 61, 54, 75, 58,  1, 61, 68, 67,\n",
            "        58, 72, 73, 65, 78,  1, 73, 71, 62, 58, 57,  1, 73, 68,  0, 54, 57, 68,\n",
            "        69, 73,  1, 54, 72,  1, 66, 54, 67, 78,  1, 68, 59,  1, 73, 61, 58, 72,\n",
            "        58,  1, 72, 74, 60, 60, 58, 72, 73, 62, 68, 67, 72,  1, 54, 72,  1, 56,\n",
            "        68, 74, 65, 57,  1, 55, 58,  1, 59, 62, 73, 73, 58, 57,  1, 62, 67, 73,\n",
            "        68,  1, 68, 67, 58,  1, 72, 73, 68, 71, 78, 11,  0,  0, 25, 59, 73, 58,\n",
            "        71,  1, 73, 61, 58,  1, 76, 68, 67, 57, 58, 71, 59, 74, 65,  1, 72, 74,\n",
            "        56, 56, 58, 72, 72,  1, 68, 59,  1,  3])\n"
          ]
        }
      ],
      "source": [
        "\n",
        "import torch # we use PyTorch: https://pytorch.org\n",
        "data = torch.tensor(encode(text), dtype=torch.long)\n",
        "print(data.shape, data.dtype)\n",
        "print(data[:1000]) # the 1000 characters we looked at earier will to the GPT look like this"
      ]
    },
    {
      "cell_type": "markdown",
      "metadata": {},
      "source": [
        "### Splitting the data"
      ]
    },
    {
      "cell_type": "code",
      "execution_count": 8,
      "metadata": {
        "id": "f_WIXqxz0lU5"
      },
      "outputs": [],
      "source": [
        "\n",
        "n = int(0.9*len(data)) # first 90% will be train, rest val\n",
        "train_data = data[:n]\n",
        "val_data = data[n:]"
      ]
    },
    {
      "cell_type": "code",
      "execution_count": 9,
      "metadata": {
        "colab": {
          "base_uri": "https://localhost:8080/"
        },
        "id": "TD5Bj8Y6IAD4",
        "outputId": "bf23c586-1d33-4af1-b63d-ce6f90b0a528"
      },
      "outputs": [
        {
          "data": {
            "text/plain": [
              "tensor([80,  1,  1, 28, 39, 42, 39, 44, 32])"
            ]
          },
          "execution_count": 9,
          "metadata": {},
          "output_type": "execute_result"
        }
      ],
      "source": [
        "block_size = 8\n",
        "train_data[:block_size+1]"
      ]
    },
    {
      "cell_type": "code",
      "execution_count": 10,
      "metadata": {
        "colab": {
          "base_uri": "https://localhost:8080/"
        },
        "id": "9HXDe8vGJCEn",
        "outputId": "588663aa-1de5-4ef7-aba0-4a96fe828353"
      },
      "outputs": [
        {
          "name": "stdout",
          "output_type": "stream",
          "text": [
            "when input is tensor([80]) the target: 1\n",
            "when input is tensor([80,  1]) the target: 1\n",
            "when input is tensor([80,  1,  1]) the target: 28\n",
            "when input is tensor([80,  1,  1, 28]) the target: 39\n",
            "when input is tensor([80,  1,  1, 28, 39]) the target: 42\n",
            "when input is tensor([80,  1,  1, 28, 39, 42]) the target: 39\n",
            "when input is tensor([80,  1,  1, 28, 39, 42, 39]) the target: 44\n",
            "when input is tensor([80,  1,  1, 28, 39, 42, 39, 44]) the target: 32\n"
          ]
        }
      ],
      "source": [
        "x = train_data[:block_size]\n",
        "y = train_data[1:block_size+1]\n",
        "for t in range(block_size):\n",
        "    context = x[:t+1]\n",
        "    target = y[t]\n",
        "    print(f\"when input is {context} the target: {target}\")"
      ]
    },
    {
      "cell_type": "code",
      "execution_count": 11,
      "metadata": {
        "colab": {
          "base_uri": "https://localhost:8080/"
        },
        "id": "Q3k1Czf7LuA9",
        "outputId": "4ea8e8a0-443c-49bb-b3bf-ba36e1712999"
      },
      "outputs": [
        {
          "name": "stdout",
          "output_type": "stream",
          "text": [
            "inputs:\n",
            "torch.Size([4, 8])\n",
            "tensor([[42, 68, 68, 66, 10, 10, 61, 54],\n",
            "        [62, 67, 60,  1, 62, 67,  1, 58],\n",
            "        [44, 62, 67,  1, 47, 68, 68, 57],\n",
            "        [ 0, 78, 68, 74,  1, 56, 54, 66]])\n",
            "targets:\n",
            "torch.Size([4, 8])\n",
            "tensor([[68, 68, 66, 10, 10, 61, 54, 72],\n",
            "        [67, 60,  1, 62, 67,  1, 58, 75],\n",
            "        [62, 67,  1, 47, 68, 68, 57, 66],\n",
            "        [78, 68, 74,  1, 56, 54, 66, 58]])\n",
            "----\n",
            "when input is [42] the target: 68\n",
            "when input is [42, 68] the target: 68\n",
            "when input is [42, 68, 68] the target: 66\n",
            "when input is [42, 68, 68, 66] the target: 10\n",
            "when input is [42, 68, 68, 66, 10] the target: 10\n",
            "when input is [42, 68, 68, 66, 10, 10] the target: 61\n",
            "when input is [42, 68, 68, 66, 10, 10, 61] the target: 54\n",
            "when input is [42, 68, 68, 66, 10, 10, 61, 54] the target: 72\n",
            "when input is [62] the target: 67\n",
            "when input is [62, 67] the target: 60\n",
            "when input is [62, 67, 60] the target: 1\n",
            "when input is [62, 67, 60, 1] the target: 62\n",
            "when input is [62, 67, 60, 1, 62] the target: 67\n",
            "when input is [62, 67, 60, 1, 62, 67] the target: 1\n",
            "when input is [62, 67, 60, 1, 62, 67, 1] the target: 58\n",
            "when input is [62, 67, 60, 1, 62, 67, 1, 58] the target: 75\n",
            "when input is [44] the target: 62\n",
            "when input is [44, 62] the target: 67\n",
            "when input is [44, 62, 67] the target: 1\n",
            "when input is [44, 62, 67, 1] the target: 47\n",
            "when input is [44, 62, 67, 1, 47] the target: 68\n",
            "when input is [44, 62, 67, 1, 47, 68] the target: 68\n",
            "when input is [44, 62, 67, 1, 47, 68, 68] the target: 57\n",
            "when input is [44, 62, 67, 1, 47, 68, 68, 57] the target: 66\n",
            "when input is [0] the target: 78\n",
            "when input is [0, 78] the target: 68\n",
            "when input is [0, 78, 68] the target: 74\n",
            "when input is [0, 78, 68, 74] the target: 1\n",
            "when input is [0, 78, 68, 74, 1] the target: 56\n",
            "when input is [0, 78, 68, 74, 1, 56] the target: 54\n",
            "when input is [0, 78, 68, 74, 1, 56, 54] the target: 66\n",
            "when input is [0, 78, 68, 74, 1, 56, 54, 66] the target: 58\n"
          ]
        }
      ],
      "source": [
        "torch.manual_seed(1337)\n",
        "batch_size = 4 # Sequences we process in parallel\n",
        "block_size = 8 # Maximum context length for predictions\n",
        "\n",
        "def get_batch(split):\n",
        "    data = train_data if split == 'train' else val_data\n",
        "    ix = torch.randint(len(data) - block_size, (batch_size,))\n",
        "    x = torch.stack([data[i:i+block_size] for i in ix])\n",
        "    y = torch.stack([data[i+1:i+block_size+1] for i in ix])\n",
        "    return x, y\n",
        "\n",
        "xb, yb = get_batch('train')\n",
        "print('inputs:')\n",
        "print(xb.shape)\n",
        "print(xb)\n",
        "print('targets:')\n",
        "print(yb.shape)\n",
        "print(yb)\n",
        "\n",
        "print('----')\n",
        "\n",
        "for b in range(batch_size): # batch dimension\n",
        "    for t in range(block_size): # time dimension\n",
        "        context = xb[b, :t+1]\n",
        "        target = yb[b,t]\n",
        "        print(f\"when input is {context.tolist()} the target: {target}\")"
      ]
    },
    {
      "cell_type": "code",
      "execution_count": 12,
      "metadata": {
        "colab": {
          "base_uri": "https://localhost:8080/"
        },
        "id": "qpyyAeIzQjlO",
        "outputId": "a650f8dc-da81-400b-bc59-0a595487fdb9"
      },
      "outputs": [
        {
          "name": "stdout",
          "output_type": "stream",
          "text": [
            "tensor([[42, 68, 68, 66, 10, 10, 61, 54],\n",
            "        [62, 67, 60,  1, 62, 67,  1, 58],\n",
            "        [44, 62, 67,  1, 47, 68, 68, 57],\n",
            "        [ 0, 78, 68, 74,  1, 56, 54, 66]])\n"
          ]
        }
      ],
      "source": [
        "print(xb) # Input to the transformer"
      ]
    },
    {
      "cell_type": "code",
      "execution_count": 13,
      "metadata": {
        "colab": {
          "base_uri": "https://localhost:8080/"
        },
        "id": "nql_1ER53oCf",
        "outputId": "5de90b1b-4603-428a-f571-fe4bd3c45436"
      },
      "outputs": [
        {
          "name": "stdout",
          "output_type": "stream",
          "text": [
            "torch.Size([32, 81])\n",
            "tensor(4.9513, grad_fn=<NllLossBackward0>)\n",
            "\n",
            "XjAN_LUE2O8q:0vx5Nnd],V8aPmStIpc&\"n9YK﻿P,*5UWQ8a DuWyJq!;?apJzbe ?eaIdce6azd1f;?po2JlT﻿E5'qvBF;72ki)\n"
          ]
        }
      ],
      "source": [
        "import torch\n",
        "import torch.nn as nn\n",
        "from torch.nn import functional as F\n",
        "torch.manual_seed(1337)\n",
        "\n",
        "class BigramLanguageModel(nn.Module):\n",
        "\n",
        "    def __init__(self, vocab_size):\n",
        "        super().__init__()\n",
        "        # each token directly reads off the logits for the next token from a lookup table\n",
        "        self.token_embedding_table = nn.Embedding(vocab_size, vocab_size)\n",
        "\n",
        "    def forward(self, idx, targets=None):\n",
        "\n",
        "        # idx and targets are both (B,T) tensor of integers\n",
        "        logits = self.token_embedding_table(idx) # (B,T,C)\n",
        "\n",
        "        if targets is None:\n",
        "            loss = None\n",
        "        else:\n",
        "            B, T, C = logits.shape\n",
        "            logits = logits.view(B*T, C)\n",
        "            targets = targets.view(B*T)\n",
        "            loss = F.cross_entropy(logits, targets)\n",
        "\n",
        "        return logits, loss\n",
        "\n",
        "    def generate(self, idx, max_new_tokens):\n",
        "        # idx is (B, T) array of indices in the current context\n",
        "        for _ in range(max_new_tokens):\n",
        "            # get the predictions\n",
        "            logits, loss = self(idx)\n",
        "            # focus only on the last time step\n",
        "            logits = logits[:, -1, :] # becomes (B, C)\n",
        "            # apply softmax to get probabilities\n",
        "            probs = F.softmax(logits, dim=-1) # (B, C)\n",
        "            # sample from the distribution\n",
        "            idx_next = torch.multinomial(probs, num_samples=1) # (B, 1)\n",
        "            # append sampled index to the running sequence\n",
        "            idx = torch.cat((idx, idx_next), dim=1) # (B, T+1)\n",
        "        return idx\n",
        "\n",
        "m = BigramLanguageModel(vocab_size)\n",
        "logits, loss = m(xb, yb)\n",
        "print(logits.shape)\n",
        "print(loss)\n",
        "\n",
        "print(decode(m.generate(idx = torch.zeros((1, 1), dtype=torch.long), max_new_tokens=100)[0].tolist()))\n"
      ]
    },
    {
      "cell_type": "markdown",
      "metadata": {},
      "source": [
        "### Creating an optimizer"
      ]
    },
    {
      "cell_type": "code",
      "execution_count": 14,
      "metadata": {
        "id": "eTyJ8qAaDdiF"
      },
      "outputs": [],
      "source": [
        "\n",
        "optimizer = torch.optim.AdamW(m.parameters(), lr=1e-3)"
      ]
    },
    {
      "cell_type": "markdown",
      "metadata": {},
      "source": [
        "### Evaluating Loss"
      ]
    },
    {
      "cell_type": "code",
      "execution_count": 40,
      "metadata": {
        "colab": {
          "base_uri": "https://localhost:8080/"
        },
        "id": "Hs4kI8YdEkQj",
        "outputId": "42ded55c-2983-4d91-c528-675b2edfa849"
      },
      "outputs": [
        {
          "name": "stdout",
          "output_type": "stream",
          "text": [
            "1.3925049304962158\n"
          ]
        }
      ],
      "source": [
        "batch_size = 32\n",
        "for steps in range(100): # For better results steps can be increased\n",
        "\n",
        "    # sample a batch of data\n",
        "    xb, yb = get_batch('train')\n",
        "\n",
        "    # evaluate the loss\n",
        "    logits, loss = m(xb, yb)\n",
        "    optimizer.zero_grad(set_to_none=True)\n",
        "    loss.backward()\n",
        "    optimizer.step()\n",
        "\n",
        "print(loss.item())\n"
      ]
    },
    {
      "cell_type": "code",
      "execution_count": 16,
      "metadata": {
        "colab": {
          "base_uri": "https://localhost:8080/"
        },
        "id": "EcVIDWAZEtjN",
        "outputId": "0ad6f9d2-ad58-4498-a5f8-6f31407bb18b"
      },
      "outputs": [
        {
          "name": "stdout",
          "output_type": "stream",
          "text": [
            "\n",
            "﻿Ip7_pPepk!)j-I7Vq*5c73RE.i5E3W]-wHPt:qgiR5EQ\n",
            "i﻿312CEC i*WBFYyaQ48'4_PwcclEhCzB[-LFe_rr8anY!q06z6P\",AQeE3Ru)3jP,W.;b B8c&Xj99.VCC:Jqp Ct:9?\n",
            "ZdxMzD&IRi\"UWR*5;8_Y5W*v7Ri\"xO_[DvhMx8_pk5F5EJ_xvA6'c)p7B2HDq!E2hMPs-A1u\"﻿6d37:OxW)w45Q0 D3*zj32W;P1r*﻿7m﻿oMXL?PL?zXnI4\"xLdCGJoM?6KbtNl(ZpkvPA6DhM9t;TPc*!:JJnT*YLx8ghqRCDSc\"4.wHrT)WFMPbxCCpVi!P﻿X4d7TU\"cKor&iPj6HCC&c;fY\"!P\"ws)DRt*52DoBUPd1.S(52﻿'f;8qtB_&D5SYyLe)!nubqKYYu,o6dvrdrN_IOnA6Nq﻿YQ﻿PbqhyantTGBUN_?n[Xs_[N59KO;8T6ZFn&;7,yk)4rN5.g2qNr&cbJ3wysDzXhMrdZgL2\n"
          ]
        }
      ],
      "source": [
        "print(decode(m.generate(idx = torch.zeros((1, 1), dtype=torch.long), max_new_tokens=500)[0].tolist()))"
      ]
    },
    {
      "cell_type": "markdown",
      "metadata": {
        "id": "XinV8nmAnmKN"
      },
      "source": [
        "## The mathematical trick in self-attention"
      ]
    },
    {
      "cell_type": "code",
      "execution_count": 17,
      "metadata": {
        "colab": {
          "base_uri": "https://localhost:8080/"
        },
        "id": "tukiH-NbRBhA",
        "outputId": "d981f6d4-ac08-4ec2-8284-82f5fa1e0815"
      },
      "outputs": [
        {
          "name": "stdout",
          "output_type": "stream",
          "text": [
            "a=\n",
            "tensor([[1.0000, 0.0000, 0.0000],\n",
            "        [0.5000, 0.5000, 0.0000],\n",
            "        [0.3333, 0.3333, 0.3333]])\n",
            "--\n",
            "b=\n",
            "tensor([[2., 7.],\n",
            "        [6., 4.],\n",
            "        [6., 5.]])\n",
            "--\n",
            "c=\n",
            "tensor([[2.0000, 7.0000],\n",
            "        [4.0000, 5.5000],\n",
            "        [4.6667, 5.3333]])\n"
          ]
        }
      ],
      "source": [
        "# toy example illustrating how matrix multiplication can be used for a \"weighted aggregation\"\n",
        "torch.manual_seed(42)\n",
        "a = torch.tril(torch.ones(3, 3))\n",
        "a = a / torch.sum(a, 1, keepdim=True)\n",
        "b = torch.randint(0,10,(3,2)).float()\n",
        "c = a @ b\n",
        "print('a=')\n",
        "print(a)\n",
        "print('--')\n",
        "print('b=')\n",
        "print(b)\n",
        "print('--')\n",
        "print('c=')\n",
        "print(c)"
      ]
    },
    {
      "cell_type": "code",
      "execution_count": 18,
      "metadata": {
        "colab": {
          "base_uri": "https://localhost:8080/"
        },
        "id": "Hs_E24uRE8kr",
        "outputId": "8bf3ff5f-565e-48b8-de8e-7272706c8e12"
      },
      "outputs": [
        {
          "data": {
            "text/plain": [
              "torch.Size([4, 8, 2])"
            ]
          },
          "execution_count": 18,
          "metadata": {},
          "output_type": "execute_result"
        }
      ],
      "source": [
        "# consider the following toy example:\n",
        "\n",
        "torch.manual_seed(1337)\n",
        "B,T,C = 4,8,2 # batch, time, channels\n",
        "x = torch.randn(B,T,C)\n",
        "x.shape"
      ]
    },
    {
      "cell_type": "code",
      "execution_count": 19,
      "metadata": {
        "id": "86NuXX0fn7ps"
      },
      "outputs": [],
      "source": [
        "# We want x[b,t] = mean_{i<=t} x[b,i]\n",
        "xbow = torch.zeros((B,T,C))\n",
        "for b in range(B):\n",
        "    for t in range(T):\n",
        "        xprev = x[b,:t+1] # (t,C)\n",
        "        xbow[b,t] = torch.mean(xprev, 0)\n"
      ]
    },
    {
      "cell_type": "code",
      "execution_count": 20,
      "metadata": {
        "colab": {
          "base_uri": "https://localhost:8080/"
        },
        "id": "yhdOAd6-wXkZ",
        "outputId": "eaf6ab61-dff1-4bb7-e623-47f692bad5f9"
      },
      "outputs": [
        {
          "data": {
            "text/plain": [
              "True"
            ]
          },
          "execution_count": 20,
          "metadata": {},
          "output_type": "execute_result"
        }
      ],
      "source": [
        "# version 2: using matrix multiply for a weighted aggregation\n",
        "wei = torch.tril(torch.ones(T, T))\n",
        "wei = wei / wei.sum(1, keepdim=True)\n",
        "xbow2 = wei @ x # (B, T, T) @ (B, T, C) ----> (B, T, C)\n",
        "torch.allclose(xbow, xbow2)"
      ]
    },
    {
      "cell_type": "code",
      "execution_count": 21,
      "metadata": {
        "colab": {
          "base_uri": "https://localhost:8080/"
        },
        "id": "wOURrfG-ysoL",
        "outputId": "080b500d-8110-4602-fcef-7d6f2ebfc6bc"
      },
      "outputs": [
        {
          "data": {
            "text/plain": [
              "True"
            ]
          },
          "execution_count": 21,
          "metadata": {},
          "output_type": "execute_result"
        }
      ],
      "source": [
        "# version 3: use Softmax\n",
        "tril = torch.tril(torch.ones(T, T))\n",
        "wei = torch.zeros((T,T))\n",
        "wei = wei.masked_fill(tril == 0, float('-inf'))\n",
        "wei = F.softmax(wei, dim=-1)\n",
        "xbow3 = wei @ x\n",
        "torch.allclose(xbow, xbow3)\n"
      ]
    },
    {
      "cell_type": "code",
      "execution_count": 22,
      "metadata": {
        "colab": {
          "base_uri": "https://localhost:8080/"
        },
        "id": "EDarxEWIRMKq",
        "outputId": "07b587dd-a91c-4bb0-d7f1-e247cd5dacb5"
      },
      "outputs": [
        {
          "data": {
            "text/plain": [
              "torch.Size([4, 8, 16])"
            ]
          },
          "execution_count": 22,
          "metadata": {},
          "output_type": "execute_result"
        }
      ],
      "source": [
        "# version 4: self-attention!\n",
        "torch.manual_seed(1337)\n",
        "B,T,C = 4,8,32 # batch, time, channels\n",
        "x = torch.randn(B,T,C)\n",
        "\n",
        "# let's see a single Head perform self-attention\n",
        "head_size = 16\n",
        "key = nn.Linear(C, head_size, bias=False)\n",
        "query = nn.Linear(C, head_size, bias=False)\n",
        "value = nn.Linear(C, head_size, bias=False)\n",
        "k = key(x)   # (B, T, 16)\n",
        "q = query(x) # (B, T, 16)\n",
        "wei =  q @ k.transpose(-2, -1) # (B, T, 16) @ (B, 16, T) ---> (B, T, T)\n",
        "\n",
        "tril = torch.tril(torch.ones(T, T))\n",
        "#wei = torch.zeros((T,T))\n",
        "wei = wei.masked_fill(tril == 0, float('-inf'))\n",
        "wei = F.softmax(wei, dim=-1)\n",
        "\n",
        "v = value(x)\n",
        "out = wei @ v\n",
        "#out = wei @ x\n",
        "\n",
        "out.shape"
      ]
    },
    {
      "cell_type": "code",
      "execution_count": 23,
      "metadata": {
        "colab": {
          "base_uri": "https://localhost:8080/"
        },
        "id": "vT1hdtzXCjgL",
        "outputId": "6d2c569b-7922-451f-9934-0fc564678d17"
      },
      "outputs": [
        {
          "data": {
            "text/plain": [
              "tensor([[1.0000, 0.0000, 0.0000, 0.0000, 0.0000, 0.0000, 0.0000, 0.0000],\n",
              "        [0.1574, 0.8426, 0.0000, 0.0000, 0.0000, 0.0000, 0.0000, 0.0000],\n",
              "        [0.2088, 0.1646, 0.6266, 0.0000, 0.0000, 0.0000, 0.0000, 0.0000],\n",
              "        [0.5792, 0.1187, 0.1889, 0.1131, 0.0000, 0.0000, 0.0000, 0.0000],\n",
              "        [0.0294, 0.1052, 0.0469, 0.0276, 0.7909, 0.0000, 0.0000, 0.0000],\n",
              "        [0.0176, 0.2689, 0.0215, 0.0089, 0.6812, 0.0019, 0.0000, 0.0000],\n",
              "        [0.1691, 0.4066, 0.0438, 0.0416, 0.1048, 0.2012, 0.0329, 0.0000],\n",
              "        [0.0210, 0.0843, 0.0555, 0.2297, 0.0573, 0.0709, 0.2423, 0.2391]],\n",
              "       grad_fn=<SelectBackward0>)"
            ]
          },
          "execution_count": 23,
          "metadata": {},
          "output_type": "execute_result"
        }
      ],
      "source": [
        "wei[0]"
      ]
    },
    {
      "cell_type": "code",
      "execution_count": 24,
      "metadata": {
        "id": "4SNbLq5z3oBw"
      },
      "outputs": [],
      "source": [
        "k = torch.randn(B,T,head_size)\n",
        "q = torch.randn(B,T,head_size)\n",
        "wei = q @ k.transpose(-2, -1) * head_size**-0.5"
      ]
    },
    {
      "cell_type": "code",
      "execution_count": 25,
      "metadata": {
        "colab": {
          "base_uri": "https://localhost:8080/"
        },
        "id": "Nl6I9n9IRTSo",
        "outputId": "0c5b9cd0-af8a-4564-fbad-41d844e54822"
      },
      "outputs": [
        {
          "data": {
            "text/plain": [
              "tensor(1.0449)"
            ]
          },
          "execution_count": 25,
          "metadata": {},
          "output_type": "execute_result"
        }
      ],
      "source": [
        "k.var()"
      ]
    },
    {
      "cell_type": "code",
      "execution_count": 26,
      "metadata": {
        "colab": {
          "base_uri": "https://localhost:8080/"
        },
        "id": "T1tQx7oeRvtc",
        "outputId": "3541ca1a-7447-4ef7-835e-81824aebc1b5"
      },
      "outputs": [
        {
          "data": {
            "text/plain": [
              "tensor(1.0700)"
            ]
          },
          "execution_count": 26,
          "metadata": {},
          "output_type": "execute_result"
        }
      ],
      "source": [
        "q.var()"
      ]
    },
    {
      "cell_type": "code",
      "execution_count": 27,
      "metadata": {
        "colab": {
          "base_uri": "https://localhost:8080/"
        },
        "id": "MLb_odHU3iKM",
        "outputId": "a687a222-5a2c-4cdb-c1bf-17cd05b45b69"
      },
      "outputs": [
        {
          "data": {
            "text/plain": [
              "tensor(1.0918)"
            ]
          },
          "execution_count": 27,
          "metadata": {},
          "output_type": "execute_result"
        }
      ],
      "source": [
        "wei.var()"
      ]
    },
    {
      "cell_type": "code",
      "execution_count": 28,
      "metadata": {
        "colab": {
          "base_uri": "https://localhost:8080/"
        },
        "id": "JB82yzt44REI",
        "outputId": "f07da2f1-10bb-4a7a-bcaa-578587977d00"
      },
      "outputs": [
        {
          "data": {
            "text/plain": [
              "tensor([0.1925, 0.1426, 0.2351, 0.1426, 0.2872])"
            ]
          },
          "execution_count": 28,
          "metadata": {},
          "output_type": "execute_result"
        }
      ],
      "source": [
        "torch.softmax(torch.tensor([0.1, -0.2, 0.3, -0.2, 0.5]), dim=-1)"
      ]
    },
    {
      "cell_type": "code",
      "execution_count": 29,
      "metadata": {
        "colab": {
          "base_uri": "https://localhost:8080/"
        },
        "id": "Mpt8569BB9_f",
        "outputId": "5d8b910a-6192-44ba-ebb2-497d88e0b629"
      },
      "outputs": [
        {
          "data": {
            "text/plain": [
              "tensor([0.0326, 0.0030, 0.1615, 0.0030, 0.8000])"
            ]
          },
          "execution_count": 29,
          "metadata": {},
          "output_type": "execute_result"
        }
      ],
      "source": [
        "torch.softmax(torch.tensor([0.1, -0.2, 0.3, -0.2, 0.5])*8, dim=-1) # gets too peaky, converges to one-hot"
      ]
    },
    {
      "cell_type": "code",
      "execution_count": 31,
      "metadata": {
        "colab": {
          "base_uri": "https://localhost:8080/"
        },
        "id": "2Num7sX9CKOH",
        "outputId": "929ceb78-a639-41d6-aac7-12997b5c93f0"
      },
      "outputs": [
        {
          "data": {
            "text/plain": [
              "torch.Size([32, 100])"
            ]
          },
          "execution_count": 31,
          "metadata": {},
          "output_type": "execute_result"
        }
      ],
      "source": [
        "class LayerNorm1d: # (used to be BatchNorm1d)\n",
        "\n",
        "  def __init__(self, dim, eps=1e-5, momentum=0.1):\n",
        "    self.eps = eps\n",
        "    self.gamma = torch.ones(dim)\n",
        "    self.beta = torch.zeros(dim)\n",
        "\n",
        "  def __call__(self, x):\n",
        "    # calculate the forward pass\n",
        "    xmean = x.mean(1, keepdim=True) # batch mean\n",
        "    xvar = x.var(1, keepdim=True) # batch variance\n",
        "    xhat = (x - xmean) / torch.sqrt(xvar + self.eps) # normalize to unit variance\n",
        "    self.out = self.gamma * xhat + self.beta\n",
        "    return self.out\n",
        "\n",
        "  def parameters(self):\n",
        "    return [self.gamma, self.beta]\n",
        "\n",
        "torch.manual_seed(1337)\n",
        "module = LayerNorm1d(100)\n",
        "x = torch.randn(32, 100) # batch size 32 of 100-dimensional vectors\n",
        "x = module(x)\n",
        "x.shape"
      ]
    },
    {
      "cell_type": "code",
      "execution_count": 32,
      "metadata": {
        "colab": {
          "base_uri": "https://localhost:8080/"
        },
        "id": "633T2cmnW1uk",
        "outputId": "7720fa58-0478-4e8a-86a7-502d4cce9443"
      },
      "outputs": [
        {
          "data": {
            "text/plain": [
              "(tensor(0.1469), tensor(0.8803))"
            ]
          },
          "execution_count": 32,
          "metadata": {},
          "output_type": "execute_result"
        }
      ],
      "source": [
        "x[:,0].mean(), x[:,0].std() # mean,std of one feature across all batch inputs"
      ]
    },
    {
      "cell_type": "code",
      "execution_count": 33,
      "metadata": {
        "colab": {
          "base_uri": "https://localhost:8080/"
        },
        "id": "LN9cK9BoXCYb",
        "outputId": "6368ece0-600e-417d-8a91-7c1e5d750ba8"
      },
      "outputs": [
        {
          "data": {
            "text/plain": [
              "(tensor(-3.5763e-09), tensor(1.0000))"
            ]
          },
          "execution_count": 33,
          "metadata": {},
          "output_type": "execute_result"
        }
      ],
      "source": [
        "x[0,:].mean(), x[0,:].std() # mean,std of a single input from the batch, of its features"
      ]
    },
    {
      "cell_type": "markdown",
      "metadata": {},
      "source": [
        "### Combining everything explained above"
      ]
    },
    {
      "cell_type": "code",
      "execution_count": 41,
      "metadata": {
        "colab": {
          "base_uri": "https://localhost:8080/"
        },
        "id": "hoelkOrFY8bN",
        "outputId": "961304cd-e379-40d4-dd56-8de0b91d2861"
      },
      "outputs": [
        {
          "name": "stdout",
          "output_type": "stream",
          "text": [
            "0.211793 M parameters\n",
            "step 0: train loss 4.4826, val loss 4.4817\n",
            "step 100: train loss 2.6379, val loss 2.6782\n",
            "step 200: train loss 2.4750, val loss 2.5179\n",
            "step 300: train loss 2.3735, val loss 2.4351\n",
            "step 400: train loss 2.2895, val loss 2.3578\n",
            "step 500: train loss 2.2292, val loss 2.2864\n",
            "step 600: train loss 2.1543, val loss 2.2285\n",
            "step 700: train loss 2.1104, val loss 2.1804\n",
            "step 800: train loss 2.0546, val loss 2.1371\n",
            "step 900: train loss 1.9964, val loss 2.0838\n",
            "step 1000: train loss 1.9473, val loss 2.0339\n",
            "step 1100: train loss 1.9340, val loss 2.0237\n",
            "step 1200: train loss 1.8919, val loss 1.9966\n",
            "step 1300: train loss 1.8642, val loss 1.9616\n",
            "step 1400: train loss 1.8332, val loss 1.9217\n",
            "step 1500: train loss 1.8105, val loss 1.9203\n",
            "step 1600: train loss 1.7963, val loss 1.8953\n",
            "step 1700: train loss 1.7713, val loss 1.8717\n",
            "step 1800: train loss 1.7573, val loss 1.8684\n",
            "step 1900: train loss 1.7201, val loss 1.8446\n",
            "step 2000: train loss 1.7167, val loss 1.8284\n",
            "step 2100: train loss 1.7029, val loss 1.8414\n",
            "step 2200: train loss 1.6914, val loss 1.8083\n",
            "step 2300: train loss 1.6591, val loss 1.7694\n",
            "step 2400: train loss 1.6541, val loss 1.7872\n",
            "step 2500: train loss 1.6426, val loss 1.7672\n",
            "step 2600: train loss 1.6126, val loss 1.7548\n",
            "step 2700: train loss 1.6153, val loss 1.7451\n",
            "step 2800: train loss 1.6038, val loss 1.7376\n",
            "step 2900: train loss 1.6018, val loss 1.7480\n",
            "step 3000: train loss 1.5927, val loss 1.7481\n",
            "step 3100: train loss 1.5955, val loss 1.7104\n",
            "step 3200: train loss 1.5785, val loss 1.7037\n",
            "step 3300: train loss 1.5698, val loss 1.7074\n",
            "step 3400: train loss 1.5592, val loss 1.7023\n",
            "step 3500: train loss 1.5532, val loss 1.6980\n",
            "step 3600: train loss 1.5445, val loss 1.6898\n",
            "step 3700: train loss 1.5281, val loss 1.6829\n",
            "step 3800: train loss 1.5435, val loss 1.6943\n",
            "step 3900: train loss 1.5248, val loss 1.6915\n",
            "step 4000: train loss 1.5122, val loss 1.6647\n",
            "step 4100: train loss 1.5217, val loss 1.6831\n",
            "step 4200: train loss 1.5085, val loss 1.6587\n",
            "step 4300: train loss 1.5054, val loss 1.6456\n",
            "step 4400: train loss 1.4981, val loss 1.6570\n",
            "step 4500: train loss 1.4844, val loss 1.6500\n",
            "step 4600: train loss 1.4794, val loss 1.6369\n",
            "step 4700: train loss 1.4746, val loss 1.6378\n",
            "step 4800: train loss 1.4679, val loss 1.6210\n",
            "step 4900: train loss 1.4621, val loss 1.6386\n",
            "step 4999: train loss 1.4659, val loss 1.6446\n"
          ]
        }
      ],
      "source": [
        "import torch\n",
        "import torch.nn as nn\n",
        "from torch.nn import functional as F\n",
        "\n",
        "# hyperparameters\n",
        "batch_size = 16 \n",
        "block_size = 32 \n",
        "max_iters = 5000\n",
        "eval_interval = 100\n",
        "learning_rate = 1e-3\n",
        "device = 'cuda' if torch.cuda.is_available() else 'cpu'\n",
        "eval_iters = 200\n",
        "n_embd = 64\n",
        "n_head = 4\n",
        "n_layer = 4\n",
        "dropout = 0.0\n",
        "# ------------\n",
        "\n",
        "torch.manual_seed(1337)\n",
        "\n",
        "\n",
        "with open('/Users/ishaan/Downloads/GPT/wizard_of_oz.txt', 'r', encoding='utf-8') as f:\n",
        "    text = f.read()\n",
        "\n",
        "# here are all the unique characters that occur in this text\n",
        "chars = sorted(list(set(text)))\n",
        "vocab_size = len(chars)\n",
        "# create a mapping from characters to integers\n",
        "stoi = { ch:i for i,ch in enumerate(chars) }\n",
        "itos = { i:ch for i,ch in enumerate(chars) }\n",
        "encode = lambda s: [stoi[c] for c in s] # encoder: take a string, output a list of integers\n",
        "decode = lambda l: ''.join([itos[i] for i in l]) # decoder: take a list of integers, output a string\n",
        "\n",
        "# Train and test splits\n",
        "data = torch.tensor(encode(text), dtype=torch.long)\n",
        "n = int(0.9*len(data)) # first 90% will be train, rest val\n",
        "train_data = data[:n]\n",
        "val_data = data[n:]\n",
        "\n",
        "# data loading\n",
        "def get_batch(split):\n",
        "    # generate a small batch of data of inputs x and targets y\n",
        "    data = train_data if split == 'train' else val_data\n",
        "    ix = torch.randint(len(data) - block_size, (batch_size,))\n",
        "    x = torch.stack([data[i:i+block_size] for i in ix])\n",
        "    y = torch.stack([data[i+1:i+block_size+1] for i in ix])\n",
        "    x, y = x.to(device), y.to(device)\n",
        "    return x, y\n",
        "\n",
        "@torch.no_grad()\n",
        "def estimate_loss():\n",
        "    out = {}\n",
        "    model.eval()\n",
        "    for split in ['train', 'val']:\n",
        "        losses = torch.zeros(eval_iters)\n",
        "        for k in range(eval_iters):\n",
        "            X, Y = get_batch(split)\n",
        "            logits, loss = model(X, Y)\n",
        "            losses[k] = loss.item()\n",
        "        out[split] = losses.mean()\n",
        "    model.train()\n",
        "    return out\n",
        "\n",
        "class Head(nn.Module):\n",
        "    \"\"\" one head of self-attention \"\"\"\n",
        "\n",
        "    def __init__(self, head_size):\n",
        "        super().__init__()\n",
        "        self.key = nn.Linear(n_embd, head_size, bias=False)\n",
        "        self.query = nn.Linear(n_embd, head_size, bias=False)\n",
        "        self.value = nn.Linear(n_embd, head_size, bias=False)\n",
        "        self.register_buffer('tril', torch.tril(torch.ones(block_size, block_size)))\n",
        "\n",
        "        self.dropout = nn.Dropout(dropout)\n",
        "\n",
        "    def forward(self, x):\n",
        "        B,T,C = x.shape\n",
        "        k = self.key(x)   # (B,T,C)\n",
        "        q = self.query(x) # (B,T,C)\n",
        "        # compute attention scores (\"affinities\")\n",
        "        wei = q @ k.transpose(-2,-1) * C**-0.5 # (B, T, C) @ (B, C, T) -> (B, T, T)\n",
        "        wei = wei.masked_fill(self.tril[:T, :T] == 0, float('-inf')) # (B, T, T)\n",
        "        wei = F.softmax(wei, dim=-1) # (B, T, T)\n",
        "        wei = self.dropout(wei)\n",
        "        # perform the weighted aggregation of the values\n",
        "        v = self.value(x) # (B,T,C)\n",
        "        out = wei @ v # (B, T, T) @ (B, T, C) -> (B, T, C)\n",
        "        return out\n",
        "\n",
        "class MultiHeadAttention(nn.Module):\n",
        "    \"\"\" multiple heads of self-attention in parallel \"\"\"\n",
        "\n",
        "    def __init__(self, num_heads, head_size):\n",
        "        super().__init__()\n",
        "        self.heads = nn.ModuleList([Head(head_size) for _ in range(num_heads)])\n",
        "        self.proj = nn.Linear(n_embd, n_embd)\n",
        "        self.dropout = nn.Dropout(dropout)\n",
        "\n",
        "    def forward(self, x):\n",
        "        out = torch.cat([h(x) for h in self.heads], dim=-1)\n",
        "        out = self.dropout(self.proj(out))\n",
        "        return out\n",
        "\n",
        "class FeedFoward(nn.Module):\n",
        "    \"\"\" a simple linear layer followed by a non-linearity \"\"\"\n",
        "\n",
        "    def __init__(self, n_embd):\n",
        "        super().__init__()\n",
        "        self.net = nn.Sequential(\n",
        "            nn.Linear(n_embd, 4 * n_embd),\n",
        "            nn.ReLU(),\n",
        "            nn.Linear(4 * n_embd, n_embd),\n",
        "            nn.Dropout(dropout),\n",
        "        )\n",
        "\n",
        "    def forward(self, x):\n",
        "        return self.net(x)\n",
        "\n",
        "class Block(nn.Module):\n",
        "    \"\"\" Transformer block: communication followed by computation \"\"\"\n",
        "\n",
        "    def __init__(self, n_embd, n_head):\n",
        "        # n_embd: embedding dimension, n_head: the number of heads we'd like\n",
        "        super().__init__()\n",
        "        head_size = n_embd // n_head\n",
        "        self.sa = MultiHeadAttention(n_head, head_size)\n",
        "        self.ffwd = FeedFoward(n_embd)\n",
        "        self.ln1 = nn.LayerNorm(n_embd)\n",
        "        self.ln2 = nn.LayerNorm(n_embd)\n",
        "\n",
        "    def forward(self, x):\n",
        "        x = x + self.sa(self.ln1(x))\n",
        "        x = x + self.ffwd(self.ln2(x))\n",
        "        return x\n",
        "\n",
        "# super simple bigram model\n",
        "class BigramLanguageModel(nn.Module):\n",
        "\n",
        "    def __init__(self):\n",
        "        super().__init__()\n",
        "        # each token directly reads off the logits for the next token from a lookup table\n",
        "        self.token_embedding_table = nn.Embedding(vocab_size, n_embd)\n",
        "        self.position_embedding_table = nn.Embedding(block_size, n_embd)\n",
        "        self.blocks = nn.Sequential(*[Block(n_embd, n_head=n_head) for _ in range(n_layer)])\n",
        "        self.ln_f = nn.LayerNorm(n_embd) # final layer norm\n",
        "        self.lm_head = nn.Linear(n_embd, vocab_size)\n",
        "\n",
        "    def forward(self, idx, targets=None):\n",
        "        B, T = idx.shape\n",
        "\n",
        "        # idx and targets are both (B,T) tensor of integers\n",
        "        tok_emb = self.token_embedding_table(idx) # (B,T,C)\n",
        "        pos_emb = self.position_embedding_table(torch.arange(T, device=device)) # (T,C)\n",
        "        x = tok_emb + pos_emb # (B,T,C)\n",
        "        x = self.blocks(x) # (B,T,C)\n",
        "        x = self.ln_f(x) # (B,T,C)\n",
        "        logits = self.lm_head(x) # (B,T,vocab_size)\n",
        "\n",
        "        if targets is None:\n",
        "            loss = None\n",
        "        else:\n",
        "            B, T, C = logits.shape\n",
        "            logits = logits.view(B*T, C)\n",
        "            targets = targets.view(B*T)\n",
        "            loss = F.cross_entropy(logits, targets)\n",
        "\n",
        "        return logits, loss\n",
        "\n",
        "    def generate(self, idx, max_new_tokens):\n",
        "        # idx is (B, T) array of indices in the current context\n",
        "        for _ in range(max_new_tokens):\n",
        "            # crop idx to the last block_size tokens\n",
        "            idx_cond = idx[:, -block_size:]\n",
        "            # get the predictions\n",
        "            logits, loss = self(idx_cond)\n",
        "            # focus only on the last time step\n",
        "            logits = logits[:, -1, :] # becomes (B, C)\n",
        "            # apply softmax to get probabilities\n",
        "            probs = F.softmax(logits, dim=-1) # (B, C)\n",
        "            # sample from the distribution\n",
        "            idx_next = torch.multinomial(probs, num_samples=1) # (B, 1)\n",
        "            # append sampled index to the running sequence\n",
        "            idx = torch.cat((idx, idx_next), dim=1) # (B, T+1)\n",
        "        return idx\n",
        "\n",
        "model = BigramLanguageModel()\n",
        "m = model.to(device)\n",
        "# print the number of parameters in the model\n",
        "print(sum(p.numel() for p in m.parameters())/1e6, 'M parameters')\n",
        "\n",
        "# create a PyTorch optimizer\n",
        "optimizer = torch.optim.AdamW(model.parameters(), lr=learning_rate)\n",
        "\n",
        "for iter in range(max_iters):\n",
        "\n",
        "    # every once in a while evaluate the loss on train and val sets\n",
        "    if iter % eval_interval == 0 or iter == max_iters - 1:\n",
        "        losses = estimate_loss()\n",
        "        print(f\"step {iter}: train loss {losses['train']:.4f}, val loss {losses['val']:.4f}\")\n",
        "\n",
        "    # sample a batch of data\n",
        "    xb, yb = get_batch('train')\n",
        "\n",
        "    # evaluate the loss\n",
        "    logits, loss = model(xb, yb)\n",
        "    optimizer.zero_grad(set_to_none=True)\n",
        "    loss.backward()\n",
        "    optimizer.step()\n",
        "\n",
        "\n"
      ]
    },
    {
      "cell_type": "markdown",
      "metadata": {},
      "source": [
        "## Generating from the model"
      ]
    },
    {
      "cell_type": "code",
      "execution_count": 42,
      "metadata": {},
      "outputs": [
        {
          "name": "stdout",
          "output_type": "stream",
          "text": [
            "\n",
            "THE THE SHapeGOVAGAFBIVE\n",
            "\n",
            "\n",
            "At was in jamO can and again.\n",
            "\n",
            "\"Awas they's might'gingits, but loudful solled and beauteful that the\n",
            "Gumb. After is a an\n",
            "happers again.\n",
            "\n",
            "Swa!\" cross you cannot of where the\n",
            "Gain many horse, back At any use, a what hope's, but remarky,\" everned the Stehorer his get was starzed to just the Sorcerhor, and then the Princess\n",
            "and got\n",
            "drudds caugh, the itto\n",
            "ats a will cleals and frightened.\n",
            "\n",
            "\"He dragon that,\" answerged their\n",
            "long matter in and his from until and passelfatina horse. Py and the\n",
            "horse throng and where the humb'stant throug the stiled tog,\" he sat the Chapped hos harm,\n",
            "but so see an to the others,\" said the coxdramping. \"Per for eyes becion as she fall they wonder boild we are such to out, by Zeb eyes any tall he girl.\n",
            "\n",
            "\"Proy's pigettle of the stippe with\n",
            "did the foust back upon it, grown arr his pits creached had prosed not at not seee?\"\n",
            "\n",
            "\"Pell all Doothy in high pathe\n",
            "and helped little\n",
            "to my arright otherser his had abrace. But\n",
            "bracks you, for fallow had.\n",
            "\n",
            "\"The great boy, where seelly step, and for it. M.\n",
            "\n",
            "\"A was big the buggy, Jobb, I happed to go the Valley colled drew thi hole, \"because I doggless to the seaces who leaned to the Princes of the horse of the whole Ran rust back drag. So aragge counts many smell pass. \"Dose was hings any\n",
            "bany Ozma was afroves, and that pairs, and Ticks.\"\n",
            "\n",
            "\"Deerhqued-han ordones and shot and flowed kitten; but who hunground so leep have\n",
            "any dilto the comercled the each habpereds, whith has from you yelluck on the was histoned had\n",
            "opeared of the Come fruight if them. Wike I  that they hought as great unse haturgel him,\n",
            "yesided, the but they that hole,\n",
            "was all the air.\n",
            "\n",
            "\"Sorse, not be think poin tho operful her ir inevery and in the horse.\n",
            "\n",
            "The iny bodened of-Stoned the Prunce, Dorothy brom there those wooden and\n",
            "had started people in for\n",
            "the run off thunge and the Weltalls.\n",
            "\n",
            "The came jantless and usin, but the Uite.\n",
            "\n",
            "\"I'm glass many rought he it,\" said the Wizarg what any Pigeet in the, who with I an\n"
          ]
        }
      ],
      "source": [
        "\n",
        "context = torch.zeros((1, 1), dtype=torch.long, device=device)\n",
        "print(decode(m.generate(context, max_new_tokens=2000)[0].tolist()))"
      ]
    },
    {
      "cell_type": "code",
      "execution_count": null,
      "metadata": {},
      "outputs": [],
      "source": []
    },
    {
      "cell_type": "code",
      "execution_count": null,
      "metadata": {
        "id": "fjjvMifYZf7x"
      },
      "outputs": [],
      "source": []
    }
  ],
  "metadata": {
    "colab": {
      "provenance": []
    },
    "kernelspec": {
      "display_name": "Python 3",
      "name": "python3"
    },
    "language_info": {
      "codemirror_mode": {
        "name": "ipython",
        "version": 3
      },
      "file_extension": ".py",
      "mimetype": "text/x-python",
      "name": "python",
      "nbconvert_exporter": "python",
      "pygments_lexer": "ipython3",
      "version": "3.12.0"
    }
  },
  "nbformat": 4,
  "nbformat_minor": 0
}
